{
 "cells": [
  {
   "cell_type": "code",
   "execution_count": 16,
   "metadata": {},
   "outputs": [],
   "source": [
    "import nibabel as nib\n",
    "import numpy as np\n",
    "import pandas as pd\n",
    "import scipy.ndimage as ndi\n",
    "import os"
   ]
  },
  {
   "cell_type": "code",
   "execution_count": 23,
   "metadata": {},
   "outputs": [],
   "source": [
    "def find_small_components(lab_files, area_threshold, output_csv,sep='_',loc=0):\n",
    "    \"\"\"\n",
    "    This function identifies and records small components in 3D label images based on a specified area threshold.\n",
    "    \n",
    "    Parameters:\n",
    "    - lab_files: A list of file paths to the label images to be processed.\n",
    "    - area_threshold: The minimum area required for a component to be considered significant.\n",
    "    - output_csv: The file path where the results will be written in CSV format note the path must exist.\n",
    "    - sep: The separator used in the filename to split and extract the relevant part for the output CSV.\n",
    "    - loc: The location of the relevant part in the filename split by the separator.\n",
    "    \n",
    "    Returns:\n",
    "    - creates pandas DataFrame containing the filename and slice number of small components, which is then written to the specified output CSV file.\n",
    "    \n",
    "    The function iterates through each label image, processing each slice individually. It applies the ndi.label function to identify connected components in the slice, then calculates the area of each component using ndi.sum. Components with an area below the specified threshold are considered small and their presence is recorded along with the slice number in the output CSV file.\n",
    "    \"\"\"\n",
    "    output_data=[]\n",
    "    for files in lab_files:\n",
    "        img = nib.load(files)\n",
    "        img_data = img.get_fdata()\n",
    "\n",
    "    \n",
    "        for z in range(img_data.shape[2]):\n",
    "            slice_data = img_data[:, :, z]\n",
    "            \n",
    "        \n",
    "            labeled_slice, num_features = ndi.label(slice_data)\n",
    "            \n",
    "        \n",
    "            component_areas = ndi.sum(slice_data > 0, labeled_slice, range(1, num_features + 1))\n",
    "            \n",
    "        \n",
    "            small_components = [i for i, area in enumerate(component_areas, 1) if area < area_threshold]\n",
    "            \n",
    "            \n",
    "            if small_components:\n",
    "                output_data.append({'filename': os.path.basename(files).split(sep)[loc], 'slice': z})\n",
    "    df = pd.DataFrame(output_data)\n",
    "    df.to_csv(output_csv, index=False)\n",
    "    print(f'Results written to {output_csv}')\n",
    "                "
   ]
  },
  {
   "cell_type": "code",
   "execution_count": 25,
   "metadata": {},
   "outputs": [
    {
     "ename": "NameError",
     "evalue": "name 'nii_path' is not defined",
     "output_type": "error",
     "traceback": [
      "\u001b[1;31m---------------------------------------------------------------------------\u001b[0m",
      "\u001b[1;31mNameError\u001b[0m                                 Traceback (most recent call last)",
      "Cell \u001b[1;32mIn[25], line 13\u001b[0m\n\u001b[0;32m      9\u001b[0m threshold_area \u001b[38;5;241m=\u001b[39m   \u001b[38;5;241m10\u001b[39m \u001b[38;5;66;03m# Replace with your desired area threshold\u001b[39;00m\n\u001b[0;32m     10\u001b[0m output_csv_path \u001b[38;5;241m=\u001b[39m \u001b[38;5;124m'\u001b[39m\u001b[38;5;124moutput.csv\u001b[39m\u001b[38;5;124m'\u001b[39m  \u001b[38;5;66;03m# Replace with your desired output CSV path\u001b[39;00m\n\u001b[1;32m---> 13\u001b[0m \u001b[43mfind_small_components\u001b[49m\u001b[43m(\u001b[49m\u001b[43mlab_files\u001b[49m\u001b[43m,\u001b[49m\u001b[43m \u001b[49m\u001b[43mthreshold_area\u001b[49m\u001b[43m,\u001b[49m\u001b[43m \u001b[49m\u001b[43moutput_csv_path\u001b[49m\u001b[43m)\u001b[49m\n",
      "Cell \u001b[1;32mIn[23], line 22\u001b[0m, in \u001b[0;36mfind_small_components\u001b[1;34m(lab_files, area_threshold, output_csv)\u001b[0m\n\u001b[0;32m     18\u001b[0m small_components \u001b[38;5;241m=\u001b[39m [i \u001b[38;5;28;01mfor\u001b[39;00m i, area \u001b[38;5;129;01min\u001b[39;00m \u001b[38;5;28menumerate\u001b[39m(component_areas, \u001b[38;5;241m1\u001b[39m) \u001b[38;5;28;01mif\u001b[39;00m area \u001b[38;5;241m<\u001b[39m area_threshold]\n\u001b[0;32m     21\u001b[0m \u001b[38;5;28;01mif\u001b[39;00m small_components:\n\u001b[1;32m---> 22\u001b[0m     output_data\u001b[38;5;241m.\u001b[39mappend({\u001b[38;5;124m'\u001b[39m\u001b[38;5;124mfilename\u001b[39m\u001b[38;5;124m'\u001b[39m: \u001b[43mnii_path\u001b[49m, \u001b[38;5;124m'\u001b[39m\u001b[38;5;124mslice\u001b[39m\u001b[38;5;124m'\u001b[39m: z})\n\u001b[0;32m     23\u001b[0m     df \u001b[38;5;241m=\u001b[39m pd\u001b[38;5;241m.\u001b[39mDataFrame(output_data)\n\u001b[0;32m     24\u001b[0m     df\u001b[38;5;241m.\u001b[39mto_csv(output_csv, index\u001b[38;5;241m=\u001b[39m\u001b[38;5;28;01mFalse\u001b[39;00m)\n",
      "\u001b[1;31mNameError\u001b[0m: name 'nii_path' is not defined"
     ]
    }
   ],
   "source": [
    "nii_file_path = r'H:\\My Drive\\Research\\MREcrohnsproject\\Data\\Florian_CTE_unprocessed\\Renamed_Files\\CTE_annotations_NG_phase1'\n",
    "substrings_labels='-ng-label.nii.gz'\n",
    "\n",
    "all_files_lab = os.listdir(nii_file_path)\n",
    "lab_files = [os.path.join(nii_file_path, file) for file in all_files_lab if any(sub in file for sub in substrings_labels)]\n",
    "\n",
    "\n",
    "\n",
    "threshold_area =   10 # Replace with your desired area threshold\n",
    "output_csv_path = 'output.csv'  # Replace with your desired output CSV path\n",
    "\n",
    "\n",
    "find_small_components(lab_files, threshold_area, output_csv_path)"
   ]
  }
 ],
 "metadata": {
  "kernelspec": {
   "display_name": ".venv",
   "language": "python",
   "name": "python3"
  },
  "language_info": {
   "codemirror_mode": {
    "name": "ipython",
    "version": 3
   },
   "file_extension": ".py",
   "mimetype": "text/x-python",
   "name": "python",
   "nbconvert_exporter": "python",
   "pygments_lexer": "ipython3",
   "version": "3.11.9"
  }
 },
 "nbformat": 4,
 "nbformat_minor": 2
}
