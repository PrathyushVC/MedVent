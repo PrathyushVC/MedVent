{
 "cells": [
  {
   "cell_type": "code",
   "execution_count": 6,
   "metadata": {},
   "outputs": [
    {
     "name": "stdout",
     "output_type": "stream",
     "text": [
      "Collecting openpyxlNote: you may need to restart the kernel to use updated packages.\n",
      "\n",
      "  Using cached openpyxl-3.1.5-py2.py3-none-any.whl.metadata (2.5 kB)\n",
      "Collecting et-xmlfile (from openpyxl)\n",
      "  Using cached et_xmlfile-1.1.0-py3-none-any.whl.metadata (1.8 kB)\n",
      "Using cached openpyxl-3.1.5-py2.py3-none-any.whl (250 kB)\n",
      "Using cached et_xmlfile-1.1.0-py3-none-any.whl (4.7 kB)\n",
      "Installing collected packages: et-xmlfile, openpyxl\n",
      "Successfully installed et-xmlfile-1.1.0 openpyxl-3.1.5\n"
     ]
    }
   ],
   "source": [
    "%pip install openpyxl"
   ]
  },
  {
   "cell_type": "code",
   "execution_count": 47,
   "metadata": {},
   "outputs": [],
   "source": [
    "import pandas as pd\n",
    "from scipy.stats import ranksums, chi2_contingency\n",
    "import openpyxl\n",
    "import os,sys\n",
    "\n",
    "\n"
   ]
  },
  {
   "cell_type": "code",
   "execution_count": 48,
   "metadata": {},
   "outputs": [
    {
     "name": "stdout",
     "output_type": "stream",
     "text": [
      "Index(['Weight', 'SSDE (mGy)', 'Reduced SSDE (mGy)', 'Effective Dose (mSv) ',\n",
      "       'Reduced Effective Dose (mSv) ', 'Gender '],\n",
      "      dtype='object')\n"
     ]
    }
   ],
   "source": [
    "data_path_d1=f\"..\\sample_data\\CT_data\\D1 half dose study anonymized data.xlsx\"\n",
    "data_path_d2=f\"..\\sample_data\\CT_data\\D2 reduced dose anonymized data.xlsx\"\n",
    "\n",
    "df_d1=pd.read_excel(data_path_d1, header=1)\n",
    "df_d2=pd.read_excel(data_path_d2, header=1)\n",
    "\n",
    "#Remove dead first columns\n",
    "df_d1=df_d1.drop(df_d1.columns[0],axis=1)\n",
    "df_d2=df_d2.drop(df_d2.columns[0],axis=1)\n",
    "#print(df_d1.tail)\n",
    "#Remove stat rows from excel\n",
    "df_d1 = df_d1.iloc[:-4]\n",
    "df_d2 = df_d2.iloc[:-4]\n",
    "\n",
    "\n",
    "col_headers=list(df_d1.columns)\n",
    "print(df_d2.columns)\n",
    "\n"
   ]
  },
  {
   "cell_type": "code",
   "execution_count": 52,
   "metadata": {},
   "outputs": [
    {
     "name": "stdout",
     "output_type": "stream",
     "text": [
      "0     250.0\n",
      "1     138.0\n",
      "2     176.0\n",
      "3     162.0\n",
      "4     160.0\n",
      "      ...  \n",
      "85    255.0\n",
      "86    152.0\n",
      "87    186.0\n",
      "88    120.0\n",
      "89    166.0\n",
      "Name: Weight, Length: 90, dtype: float64\n"
     ]
    }
   ],
   "source": [
    "Cont=['Weight','SSDE (mGy)','Reduced SSDE (mGy)','Effective Dose (mSv) ','Reduced Effective Dose (mSv) ']\n",
    "Cat=['Gender ']\n",
    "\n",
    "results=[]\n",
    "check=df_d1['Weight']\n",
    "print(check)\n",
    "for col in Cont:\n",
    "\n",
    "    t_stat,p_value=ranksums(df_d1[col],df_d2[col],nan_policy='omit')\n",
    "\n",
    "    results.append({'Metric': col, 'Stat': t_stat, 'p-value': p_value,'Test':'Ranksum'})\n",
    "\n",
    "for col in Cat:\n",
    "    contingency_table = pd.crosstab(df_d1[col], df_d2[col])\n",
    "    chi2_stat, p_value, _, _ = chi2_contingency(contingency_table)\n",
    "    results.append({'Metric': col,  'Stat': chi2_stat, 'p-value': p_value,'Test': 'Chi-Square',})\n",
    "\n",
    "results_df = pd.DataFrame(results)\n",
    "\n",
    "results_df.to_csv('CT_variability_D1vD2_stats.csv', index=False)"
   ]
  }
 ],
 "metadata": {
  "kernelspec": {
   "display_name": ".venv",
   "language": "python",
   "name": "python3"
  },
  "language_info": {
   "codemirror_mode": {
    "name": "ipython",
    "version": 3
   },
   "file_extension": ".py",
   "mimetype": "text/x-python",
   "name": "python",
   "nbconvert_exporter": "python",
   "pygments_lexer": "ipython3",
   "version": "3.11.9"
  }
 },
 "nbformat": 4,
 "nbformat_minor": 2
}
