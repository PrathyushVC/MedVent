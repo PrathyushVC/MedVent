{
 "cells": [
  {
   "cell_type": "code",
   "execution_count": 15,
   "metadata": {},
   "outputs": [],
   "source": [
    "import os,sys\n",
    "\n",
    "import pandas as pd\n",
    "import numpy as np\n",
    "from sklearn.model_selection import train_test_split, StratifiedKFold\n",
    "from sklearn.ensemble import RandomForestClassifier\n",
    "from sklearn.metrics import accuracy_score,f1_score, recall_score, roc_auc_score, confusion_matrix\n",
    "from collections import Counter\n",
    "import scipy.io\n",
    "\n"
   ]
  },
  {
   "cell_type": "code",
   "execution_count": 19,
   "metadata": {},
   "outputs": [],
   "source": [
    "from loc_utils import VolumeVisualizer"
   ]
  },
  {
   "cell_type": "code",
   "execution_count": 15,
   "metadata": {},
   "outputs": [
    {
     "ename": "ModuleNotFoundError",
     "evalue": "No module named 'loc_utils'",
     "output_type": "error",
     "traceback": [
      "\u001b[1;31m---------------------------------------------------------------------------\u001b[0m",
      "\u001b[1;31mModuleNotFoundError\u001b[0m                       Traceback (most recent call last)",
      "Cell \u001b[1;32mIn[15], line 19\u001b[0m\n\u001b[0;32m      1\u001b[0m \u001b[38;5;124;03m'''The features for this demo are stored as part of a .mat file that places patient and feature as a dataframe. along with the labels.\u001b[39;00m\n\u001b[0;32m      2\u001b[0m \u001b[38;5;124;03mFor this example the training and testing splits have alread been defined   \u001b[39;00m\n\u001b[0;32m      3\u001b[0m \n\u001b[1;32m   (...)\u001b[0m\n\u001b[0;32m     17\u001b[0m \u001b[38;5;124;03m                labels=featstack_mre_SRmed(training,(end-2:end));\u001b[39;00m\n\u001b[0;32m     18\u001b[0m \u001b[38;5;124;03m'''\u001b[39;00m\n\u001b[1;32m---> 19\u001b[0m \u001b[38;5;28;01mfrom\u001b[39;00m \u001b[38;5;21;01mloc_utils\u001b[39;00m \u001b[38;5;28;01mimport\u001b[39;00m process_utils\n",
      "\u001b[1;31mModuleNotFoundError\u001b[0m: No module named 'loc_utils'"
     ]
    }
   ],
   "source": [
    "'''The features for this demo are stored as part of a .mat file that places patient and feature as a dataframe. along with the labels.\n",
    "For this example the training and testing splits have alread been defined   \n",
    "\n",
    "Inflammation\n",
    "training=[1\t8\t9\t12\t16\t22\t26\t34\t35\t37\t39\t42\t47\t49\t51\t2\t7\t13\t14\t18\t20\t21\t23\t30\t32\t33\t36\t38\t40\t41\t43\t44\t45\t50]\n",
    "testing=[31\t11\t46\t29\t5\t10\t27\t19\t48\t15\t3\t24\t25\t28\t4\t6\t17]\n",
    "\"H:\\My Drive\\Research\\MREcrohnsproject\\Data\\Florian_processed\\3DFeats\\Stack\\Strict_Crohns_TI_featstack_multiROI-v3_wc.mat\"\n",
    "                featstack_TI=featstack_mre_SRmed(training,(1:end-3));\n",
    "                labels=featstack_mre_SRmed(training,(end-2:end));\n",
    "\n",
    "Fibrosis\n",
    "\n",
    " training=[3,16,17,20,24,27,31,34,36,40,41,46,49,51,1,4,6,7,8,10,11,13,14,15,18,21,22,26,29,30,32,33,38,45]\n",
    " testing=[39,50,43,9,35,44,12,25,23,48,42,37,5,19,47,28,2]\n",
    "\"H:\\My Drive\\Research\\MREcrohnsproject\\Data\\Florian_processed\\3DFeats\\Stack\\Strict_Crohns_TI_featstack_multiROI-v3_wc.mat\"\n",
    "                 featstack_TI=featstack_mre_SRmed(training,(1:end-3));\n",
    "                labels=featstack_mre_SRmed(training,(end-2:end));\n",
    "'''\n"
   ]
  },
  {
   "cell_type": "code",
   "execution_count": 10,
   "metadata": {},
   "outputs": [
    {
     "ename": "ImportError",
     "evalue": "attempted relative import with no known parent package",
     "output_type": "error",
     "traceback": [
      "\u001b[1;31m---------------------------------------------------------------------------\u001b[0m",
      "\u001b[1;31mImportError\u001b[0m                               Traceback (most recent call last)",
      "Cell \u001b[1;32mIn[10], line 2\u001b[0m\n\u001b[0;32m      1\u001b[0m mat_data\u001b[38;5;241m=\u001b[39mscipy\u001b[38;5;241m.\u001b[39mio\u001b[38;5;241m.\u001b[39mloadmat(\u001b[38;5;124mr\u001b[39m\u001b[38;5;124m'\u001b[39m\u001b[38;5;124mH:\u001b[39m\u001b[38;5;124m\\\u001b[39m\u001b[38;5;124mMy Drive\u001b[39m\u001b[38;5;124m\\\u001b[39m\u001b[38;5;124mResearch\u001b[39m\u001b[38;5;124m\\\u001b[39m\u001b[38;5;124mMREcrohnsproject\u001b[39m\u001b[38;5;124m\\\u001b[39m\u001b[38;5;124mData\u001b[39m\u001b[38;5;124m\\\u001b[39m\u001b[38;5;124mFlorian_processed\u001b[39m\u001b[38;5;124m\\\u001b[39m\u001b[38;5;124m3DFeats\u001b[39m\u001b[38;5;124m\\\u001b[39m\u001b[38;5;124mStack\u001b[39m\u001b[38;5;124m\\\u001b[39m\u001b[38;5;124mStrict_Crohns_TI_featstack_multiROI-v3_wc.mat\u001b[39m\u001b[38;5;124m'\u001b[39m)\n\u001b[1;32m----> 2\u001b[0m \u001b[38;5;28;01mfrom\u001b[39;00m \u001b[38;5;21;01m.\u001b[39;00m\u001b[38;5;21;01m.\u001b[39;00m\u001b[38;5;21;01mINVent_Process_Utils\u001b[39;00m \u001b[38;5;28;01mimport\u001b[39;00m VolumeVisualizer\n",
      "\u001b[1;31mImportError\u001b[0m: attempted relative import with no known parent package"
     ]
    }
   ],
   "source": [
    "mat_data=scipy.io.loadmat(r'H:\\My Drive\\Research\\MREcrohnsproject\\Data\\Florian_processed\\3DFeats\\Stack\\Strict_Crohns_TI_featstack_multiROI-v3_wc.mat')\n",
    "\n"
   ]
  }
 ],
 "metadata": {
  "kernelspec": {
   "display_name": ".venv",
   "language": "python",
   "name": "python3"
  },
  "language_info": {
   "codemirror_mode": {
    "name": "ipython",
    "version": 3
   },
   "file_extension": ".py",
   "mimetype": "text/x-python",
   "name": "python",
   "nbconvert_exporter": "python",
   "pygments_lexer": "ipython3",
   "version": "3.11.9"
  }
 },
 "nbformat": 4,
 "nbformat_minor": 2
}
